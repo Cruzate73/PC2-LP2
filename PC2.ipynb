{
 "cells": [
  {
   "cell_type": "code",
   "execution_count": 30,
   "id": "a6d0fe3a",
   "metadata": {},
   "outputs": [
    {
     "ename": "SyntaxError",
     "evalue": "'return' outside function (<ipython-input-30-e8556fd69c6c>, line 37)",
     "output_type": "error",
     "traceback": [
      "\u001b[1;36m  File \u001b[1;32m\"<ipython-input-30-e8556fd69c6c>\"\u001b[1;36m, line \u001b[1;32m37\u001b[0m\n\u001b[1;33m    return\u001b[0m\n\u001b[1;37m    ^\u001b[0m\n\u001b[1;31mSyntaxError\u001b[0m\u001b[1;31m:\u001b[0m 'return' outside function\n"
     ]
    }
   ],
   "source": [
    "import pandas as pd # PAQUETE PANDAS PARA CREAR UN DATAFRAME\n",
    "from selenium import webdriver # PARA LEER LA DESCARGA DEL DRIVER \n",
    "# from selenium.webdriver.support.ui import Select esto solo como una opción si la pagina web a scrapiar presenta un buscador desplegable.\n",
    "\n",
    "# PARA DESCARGAR EL DRIVER:\n",
    "# https://chromedriver.chromium.org/downloads aqui se descarga el driver y debe escoger la versión con la que cuenta su computadora y que conque sistema operativo es compatible.\n",
    "\n",
    "# Lectura del driver\n",
    "path = 'C:/Users/user/Desktop/ESCRITORIO/LP2/PC2/chromedriver'# ESTE ES LA DIRECCIÓN DONDE SE GUARDO LA DESCARGA DEL DRIVER QUE UTUILIZAREMOS PARA LEER LA PAGINA.\n",
    "driver = webdriver.Chrome(path) # ESTO SIRVE PARA ACTIVAR EL DRIVER Y PODAMOS LEER LA PAGÍNA.\n",
    "\n",
    "# Lista de genes del excel\n",
    "#lista_de_genes=['VGLL3','CHMP2B','POU1F1','HTR1F','LOC102188976','CGGBP1','ZNF654','C1H3orf38','LOC102190548','SLC12A8','LOC106502043','ZNF148','SNX4','OSBPL11','LMLN'\n",
    "#,'RPL35A','IQCG','LRCH3','FYTTD1','RUBCN','MUC20','MUC4','TNK2','TFRC','ZDHHC19','SLC51A','PCYT1A','TCTEX1D2','TM4SF19','UBXN7','LOC102173689','LOC106501980'\n",
    "#,'RNF168','SMCO1','WDR53','FBXO45','LOC102175715','NRROS','CEP19','PIGX','PAK2','LOC108635601','SENP5','NCBP2','PIGZ','LOC102176365','MELTF','RTP2','SST','RTP4','LOC102171192','MASP1'\n",
    "#,'RTP1','LOC102179137','ST6GAL1','TRNAK-UUU','ADIPOQ','RFC4,EIF4A2','MIR1248','KNG1','HRG','FETUB','AHSG','LOC108635832','DNAJB11','TBCCD1','CRYGS','DGKG','ETV5','LOC102179418'\n",
    "#,'LOC108635834','LOC102178398','IGF2BP2','SENP2','POLR2H','CLCN2','LOC106502122','FAM131A','EIF4G1','PSMD2','ECE2','CAMK2N2','ALG3','MIR1224','ABCF3','AP2M1','DVL3','EIF2B5'\n",
    "#,'LOC102185396','LOC102185870','LOC102183010','LOC108636852','LOC102183269','ABCC5','LOC102183549','PARL,MAP6D1','YEATS2','LOC102187268','KLHL24','LOC108636351','KLHL6'\n",
    "#,'LOC102188899','MCF2L2','LOC102189625','LOC108635871','B3GNT5','LOC106501989','LAMP3','MCCC1','DCUN1D1','ATP11B','TRNAS-GGA','LOC106502158','TNIK','SLC2A2','LOC102189522'\n",
    "#,'EIF5A2','RPL22L1','SLC7A14','CLDN11','SKIL','PRKCI','PHC3','LOC102179814','GPR160','LOC108636005','LOC102189800','SEC62','SAMD7','LRRC31','LRRIQ4','TRNAY-GUA','LRRC34','MYNN'\n",
    "#,'ACTRT3','TRNAV-AAC','LOC108636013','LOC106502248','SHOX2','VEPH1','LOC102179325','PTX3','LOC108636061','CCNL1,LOC106502323','LEKR1','TIPARP','LOC102177566','SSR3','LOC102179240','LOC102179815'\n",
    "##,'RAP2B','P2RY1','LOC106502324','MBNL1','LOC102180350','SUCNR1','LOC102189434','LOC102181165','LOC102176168','LOC102189713','LOC102179183','LOC102179464','LOC102178896'\n",
    "#,'LOC108636081','TFF3','TFF2','TFF1','TMPRSS3','UBASH3A','RSPH1','SLC37A1','PDE9A','WDR4','NDUFV3','PKNOX1','ADARB1','POFUT2','COL18A1','SLC19A1','PCBP3','LOC102190823','COL6A1','COL6A2'\n",
    "#,'FTCD','SPATC1L','LSS','MCM3AP','YBEY','C1H21orf58','PCNT','LOC108636576','LOC102169226','DIP2A','S100B','PRMT2','FBXO25','TDRP','LOC102177758','DAZL','PLCL2','TBC1D5','TRNAW-CCA'\n",
    "#,'SATB1','KCNH8']\n",
    "\n",
    "# PARA BUSCAR EL GEN REQUERIDO:\n",
    "lista_de_genes=['VGLL3','CHMP2B','POU1F1']# LISTA PRUEBA\n",
    "resultados=[]# LISTA VACÍA.\n",
    "for gen in lista_de_genes:# CREACIÓN DE UN BUCLE PARA QUE SE PUEDA BUSCAR UN DE UNA LISTA.\n",
    "    website = 'https://www.genecards.org/Search/Keyword?queryString={}'# ESTE ES EL URL DONDE PONDREMOS EL GEN REQUERIDO Y LO PUEDA BUSCAR.\n",
    "    url=website.format(gen) # PARA BUSCAR EL REQUERIDO\n",
    "    driver.get(url)# CON ESTE CÓDIGO PODEMOS MOSTRAR LA PAGINA WEB CON EL GEN BUSCADO.\n",
    "    informacion=driver.find_elements_by_tag_name('tr') # CON ESTA LINEA DE CÓDIGO LO QUE HACEMOS ES CREAR UNA LISTA DE TODA LA INFORMACIÓN QUE NOS PROPORCIONA LA PAGINA CON REPECTO AL GEN BUSCADO.\n",
    "    for info in informacion: # CREACIÓN DE UN BUCLE PARA CONCEGUIR LA INFORMACIÓN DESEADA.\n",
    "        resultados.append(info.text) # PARA ALAMACENAR LOS RESULTADOS\n",
    "print(resultados)\n",
    "\n",
    "driver.quit() # Para cerrar el driver \n",
    "    \n",
    "# PARA ALMACENAR EN UN EXCEL:\n",
    "df=pd.DataFrame({'resultados':resultados}) # SE CREA UN DATA FRAME DE TODOS LOS RESULTADOS USANDO EL PAQUETE PANDAS ESTO SERVIRA PARA PODER OBTENER NUESTRO EXCEL.\n",
    "print(df)\n",
    "df.to_csv('resultados.csv', index=False) # CON ESTA LINEA DE CODIGO SE OBTIENE EL EXCEL.\n",
    "\n",
    "                  \n",
    "\n",
    "\n"
   ]
  },
  {
   "cell_type": "code",
   "execution_count": null,
   "id": "e1e43b47",
   "metadata": {},
   "outputs": [],
   "source": []
  },
  {
   "cell_type": "code",
   "execution_count": null,
   "id": "78e0c88d",
   "metadata": {},
   "outputs": [],
   "source": []
  },
  {
   "cell_type": "code",
   "execution_count": null,
   "id": "6264732a",
   "metadata": {},
   "outputs": [],
   "source": []
  },
  {
   "cell_type": "code",
   "execution_count": null,
   "id": "6da4423e",
   "metadata": {},
   "outputs": [],
   "source": []
  },
  {
   "cell_type": "code",
   "execution_count": null,
   "id": "4edeed63",
   "metadata": {},
   "outputs": [],
   "source": []
  }
 ],
 "metadata": {
  "kernelspec": {
   "display_name": "Python 3",
   "language": "python",
   "name": "python3"
  },
  "language_info": {
   "codemirror_mode": {
    "name": "ipython",
    "version": 3
   },
   "file_extension": ".py",
   "mimetype": "text/x-python",
   "name": "python",
   "nbconvert_exporter": "python",
   "pygments_lexer": "ipython3",
   "version": "3.8.8"
  }
 },
 "nbformat": 4,
 "nbformat_minor": 5
}
